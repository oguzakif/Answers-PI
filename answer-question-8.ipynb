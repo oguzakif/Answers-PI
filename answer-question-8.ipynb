{
 "cells": [
  {
   "cell_type": "markdown",
   "metadata": {
    "id": "ugI_3hu7Rm2R"
   },
   "source": [
    "---"
   ]
  },
  {
   "cell_type": "markdown",
   "metadata": {
    "id": "O9GM6DUeRm2S"
   },
   "source": [
    "Answers for Question 8\n",
    "---------------\n"
   ]
  },
  {
   "cell_type": "markdown",
   "metadata": {
    "id": "c8ylALPFVKEJ"
   },
   "source": [
    "---"
   ]
  },
  {
   "cell_type": "markdown",
   "metadata": {
    "id": "CZMZTfbKUV0R"
   },
   "source": [
    "#### Import necessary libraries\n",
    "\n"
   ]
  },
  {
   "cell_type": "code",
   "execution_count": 52,
   "metadata": {
    "id": "p8K87JX6Uhf9"
   },
   "outputs": [],
   "source": [
    "import pandas as pd\n",
    "import re"
   ]
  },
  {
   "cell_type": "markdown",
   "metadata": {
    "id": "Ahc_Za2TtADF"
   },
   "source": [
    "##### __Init the dataset and show__\n",
    "\n"
   ]
  },
  {
   "cell_type": "code",
   "execution_count": 53,
   "metadata": {},
   "outputs": [
    {
     "data": {
      "text/plain": [
       "4    <url>https://luwr3243.celcius.com</url>\n",
       "Name: Stats_Access_Link, dtype: object"
      ]
     },
     "execution_count": 53,
     "metadata": {},
     "output_type": "execute_result"
    }
   ],
   "source": [
    "data = [['AXO145', '<url>https://xcd32112.smart_meter.com</url>'],\n",
    "        ['TRU151', '<url>http://tXh67.dia_meter.com</url>'], \n",
    "        ['ZOD231', '<url>https://yT5495.smart_meter.com</url>'],\n",
    "        ['YRT326', '<url>https://ret323_TRu.crown.com</url>'], \n",
    "        ['LWR245', '<url>https://luwr3243.celcius.com</url>'],\n",
    "        ['LWR315', '<url>ftp://lu313243.celcius.com</url>'], ]\n",
    "\n",
    "df = pd.DataFrame(data, columns=['Device_Type', 'Stats_Access_Link'])\n",
    "\n",
    "df.head()"
   ]
  },
  {
   "cell_type": "markdown",
   "metadata": {},
   "source": [
    "\n",
    "##### __Create function that returns url without access protocol for corresponding device type__"
   ]
  },
  {
   "cell_type": "code",
   "execution_count": 51,
   "metadata": {},
   "outputs": [
    {
     "name": "stdout",
     "output_type": "stream",
     "text": [
      "Device Type: AXO145  Url: xcd32112.smart_meter.com\n",
      "Device Type: TRU151  Url: tXh67.dia_meter.com\n",
      "Device Type: ZOD231  Url: yT5495.smart_meter.com\n",
      "Device Type: YRT326  Url: ret323_TRu.crown.com\n",
      "Device Type: LWR245  Url: luwr3243.celcius.com\n",
      "Device Type: LWR315  Url: lu313243.celcius.com\n"
     ]
    }
   ],
   "source": [
    "def getStatsAccessLink(str):\n",
    "    return re.sub(r'.*(?<=//)', '', str.replace(\"</url>\", \"\"))\n",
    "\n",
    "    \n",
    "for index, row in df.iterrows():\n",
    "    print(\"Device Type:\",row['Device_Type'],\" Url:\", getStatsAccessLink(row['Stats_Access_Link']))"
   ]
  }
 ],
 "metadata": {
  "colab": {
   "collapsed_sections": [],
   "name": "Assignment_10.ipynb",
   "provenance": [],
   "toc_visible": true
  },
  "kernelspec": {
   "display_name": "Python 3",
   "language": "python",
   "name": "python3"
  },
  "language_info": {
   "codemirror_mode": {
    "name": "ipython",
    "version": 3
   },
   "file_extension": ".py",
   "mimetype": "text/x-python",
   "name": "python",
   "nbconvert_exporter": "python",
   "pygments_lexer": "ipython3",
   "version": "3.9.9"
  }
 },
 "nbformat": 4,
 "nbformat_minor": 4
}
